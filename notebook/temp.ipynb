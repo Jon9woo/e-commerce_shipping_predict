{
 "cells": [
  {
   "cell_type": "code",
   "execution_count": null,
   "metadata": {},
   "outputs": [],
   "source": [
    "i = 0\n",
    "temp = 0\n",
    "\n",
    "while True:\n",
    "    i += 1\n",
    "    temp += i\n",
    "    if temp > 10000:\n",
    "        print(\"누적합이 10000을 넘었을 때의 i 값은 \", i)\n",
    "        print(\"i가 141일때 누적합은 \", temp)\n",
    "        break\n",
    "    \n"
   ]
  }
 ],
 "metadata": {
  "language_info": {
   "name": "python"
  }
 },
 "nbformat": 4,
 "nbformat_minor": 2
}
